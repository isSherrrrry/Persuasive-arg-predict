{
 "cells": [
  {
   "cell_type": "code",
   "execution_count": 1,
   "metadata": {},
   "outputs": [],
   "source": [
    "import pandas as pd\n",
    "import numpy as np\n",
    "import matplotlib.pyplot as plt\n",
    "import seaborn as sns\n",
    "import json\n",
    "import random"
   ]
  },
  {
   "cell_type": "markdown",
   "metadata": {},
   "source": [
    "Sampling Reddit Posts "
   ]
  },
  {
   "cell_type": "code",
   "execution_count": 42,
   "metadata": {},
   "outputs": [],
   "source": [
    "# Read and sample from train_pair_data.jsonlist\n",
    "with open('./pair_task/train_pair_data.jsonlist', 'r') as file:\n",
    "    train_lines = file.readlines()\n",
    "sampled_train_lines = random.sample(train_lines, 518)\n",
    "\n",
    "# Read and sample from heldout_pair_data.jsonlist\n",
    "with open('./pair_task/heldout_pair_data.jsonlist', 'r') as file:\n",
    "    heldout_lines = file.readlines()\n",
    "sampled_heldout_lines = random.sample(heldout_lines, 121)\n",
    "\n",
    "# Combine sampled lines\n",
    "combined_sampled_lines = sampled_train_lines + sampled_heldout_lines\n",
    "\n",
    "# Write combined lines to a new file\n",
    "with open('./pair_task/combined.jsonlist', 'w') as file:\n",
    "    for line in combined_sampled_lines:\n",
    "        file.write(line)\n"
   ]
  },
  {
   "cell_type": "markdown",
   "metadata": {},
   "source": [
    "Pre-Processing"
   ]
  },
  {
   "cell_type": "code",
   "execution_count": 2,
   "metadata": {},
   "outputs": [],
   "source": [
    "filepath = './pair_task/combined.jsonlist'\n",
    "\n",
    "def process_json_file(file_path, feature):\n",
    "    all_comments_data = []\n",
    "    direct_comments_data = []\n",
    "\n",
    "    with open(file_path, 'r') as file:\n",
    "        count = 0\n",
    "        for line in file:\n",
    "            post = json.loads(line.strip())\n",
    "\n",
    "            # Replace newline characters with space\n",
    "            op_title = post['op_title'].replace('\\n', ' ')\n",
    "            op_text = post['op_text'].replace('\\n', ' ')\n",
    "\n",
    "            # Process and join comments, replacing newlines with space\n",
    "            all_pos_comments = \" \".join([comment[feature].replace('\\n', ' ') for comment in post['positive']['comments']])\n",
    "            all_neg_comments = \" \".join([comment[feature].replace('\\n', ' ') for comment in post['negative']['comments']])\n",
    "\n",
    "            if np.random.rand() > 0.5:\n",
    "                all_comments_data.append((op_title, op_text, all_pos_comments, all_neg_comments, 0))\n",
    "            else:\n",
    "                all_comments_data.append((op_title, op_text, all_neg_comments, all_pos_comments, 1))\n",
    "\n",
    "            if post['positive']['comments'] and post['positive']['comments'][0]['parent_id'].startswith('t3_'):\n",
    "                pos_comment = post['positive']['comments'][0][feature].replace('\\n', ' ')\n",
    "                if post['negative']['comments'] and post['negative']['comments'][0]['parent_id'].startswith('t3_'):\n",
    "                    neg_comment = post['negative']['comments'][0][feature].replace('\\n', ' ')\n",
    "                    if np.random.rand() > 0.5:\n",
    "                        direct_comments_data.append((op_title, op_text, pos_comment, neg_comment, 0))\n",
    "                    else:\n",
    "                        direct_comments_data.append((op_title, op_text, neg_comment, pos_comment, 1))\n",
    "\n",
    "            if all_pos_comments == pos_comment and all_neg_comments == neg_comment:\n",
    "                count += 1\n",
    "\n",
    "    df_all_comments = pd.DataFrame(all_comments_data, columns=['op_title', 'op_text', 'comment_0', 'comment_1', 'correct'])\n",
    "    df_direct_comments = pd.DataFrame(direct_comments_data, columns=['op_title', 'op_text', 'comment_0', 'comment_1', 'correct'])\n",
    "\n",
    "    return df_all_comments, df_direct_comments, count"
   ]
  },
  {
   "cell_type": "code",
   "execution_count": 6,
   "metadata": {},
   "outputs": [],
   "source": [
    "df_all_comments, df_direct_comments, count = process_json_file(filepath, 'body')\n",
    "df_all_comments_html, df_direct_comments_html, count = process_json_file(filepath, 'body_html')"
   ]
  },
  {
   "cell_type": "code",
   "execution_count": 7,
   "metadata": {},
   "outputs": [
    {
     "data": {
      "text/plain": [
       "381"
      ]
     },
     "execution_count": 7,
     "metadata": {},
     "output_type": "execute_result"
    }
   ],
   "source": [
    "count"
   ]
  },
  {
   "cell_type": "code",
   "execution_count": 48,
   "metadata": {},
   "outputs": [],
   "source": [
    "df_all_comments.to_csv('./clean_data/all_comments.csv', index=False)\n",
    "df_direct_comments.to_csv('./clean_data/direct_comments.csv', index=False)\n",
    "df_all_comments_html.to_csv('./clean_data/all_comments_html.csv', index=False)\n",
    "df_direct_comments_html.to_csv('./clean_data/direct_comments_html.csv', index=False)"
   ]
  }
 ],
 "metadata": {
  "kernelspec": {
   "display_name": "Python 3",
   "language": "python",
   "name": "python3"
  },
  "language_info": {
   "codemirror_mode": {
    "name": "ipython",
    "version": 3
   },
   "file_extension": ".py",
   "mimetype": "text/x-python",
   "name": "python",
   "nbconvert_exporter": "python",
   "pygments_lexer": "ipython3",
   "version": "3.11.1"
  }
 },
 "nbformat": 4,
 "nbformat_minor": 2
}
